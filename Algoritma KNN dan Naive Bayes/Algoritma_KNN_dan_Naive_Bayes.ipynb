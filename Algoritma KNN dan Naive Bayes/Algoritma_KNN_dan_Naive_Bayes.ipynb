{
  "nbformat": 4,
  "nbformat_minor": 0,
  "metadata": {
    "colab": {
      "provenance": []
    },
    "kernelspec": {
      "name": "python3",
      "display_name": "Python 3"
    },
    "language_info": {
      "name": "python"
    }
  },
  "cells": [
    {
      "cell_type": "markdown",
      "source": [
        "# Import data dan Library"
      ],
      "metadata": {
        "id": "H85eSzG0yrox"
      }
    },
    {
      "cell_type": "code",
      "execution_count": 3,
      "metadata": {
        "id": "VXoKx1JWwjAz"
      },
      "outputs": [],
      "source": [
        "import pandas as pd\n",
        "import numpy as np\n",
        "from sklearn.preprocessing import StandardScaler\n",
        "from sklearn.preprocessing import MinMaxScaler\n",
        "from sklearn.feature_selection import SelectKBest\n",
        "from sklearn.feature_selection import chi2\n",
        "from sklearn.decomposition import PCA\n",
        "from sklearn.utils import resample\n",
        "from sklearn.tree import DecisionTreeClassifier\n",
        "from sklearn import metrics\n",
        "\n",
        "# plotting modules\n",
        "import seaborn as sns\n",
        "import matplotlib.pyplot as plt"
      ]
    },
    {
      "cell_type": "code",
      "source": [
        "#Tambahkan nama header kolom\n",
        "header_kolom = ['Number of Instances', 'Alcohol', 'Malic acid', 'Ash', 'Alcalinity of ash', 'Magnesium',\n",
        "              'Total phenols', 'Flavanoids', 'Non Flavanoids phenols', 'Proanthocyanins',\n",
        "              'Color intensity', 'Hue', 'OD280/OD315 of diluted wines', 'Proline']\n",
        "\n",
        "#Memuat dataframe dangan header kolom\n",
        "df = pd.read_csv('wine.data', header=None, names=header_kolom)\n",
        "\n",
        "#Lihat 5 baris pertama dataframe\n",
        "df.head()"
      ],
      "metadata": {
        "colab": {
          "base_uri": "https://localhost:8080/",
          "height": 0
        },
        "id": "ca3eILB0zZIS",
        "outputId": "8c76f11e-885e-4331-f5d9-31a2fbb8053e"
      },
      "execution_count": 4,
      "outputs": [
        {
          "output_type": "execute_result",
          "data": {
            "text/plain": [
              "   Number of Instances  Alcohol  Malic acid   Ash  Alcalinity of ash  \\\n",
              "0                    1    14.23        1.71  2.43               15.6   \n",
              "1                    1    13.20        1.78  2.14               11.2   \n",
              "2                    1    13.16        2.36  2.67               18.6   \n",
              "3                    1    14.37        1.95  2.50               16.8   \n",
              "4                    1    13.24        2.59  2.87               21.0   \n",
              "\n",
              "   Magnesium  Total phenols  Flavanoids  Non Flavanoids phenols  \\\n",
              "0        127           2.80        3.06                    0.28   \n",
              "1        100           2.65        2.76                    0.26   \n",
              "2        101           2.80        3.24                    0.30   \n",
              "3        113           3.85        3.49                    0.24   \n",
              "4        118           2.80        2.69                    0.39   \n",
              "\n",
              "   Proanthocyanins  Color intensity   Hue  OD280/OD315 of diluted wines  \\\n",
              "0             2.29             5.64  1.04                          3.92   \n",
              "1             1.28             4.38  1.05                          3.40   \n",
              "2             2.81             5.68  1.03                          3.17   \n",
              "3             2.18             7.80  0.86                          3.45   \n",
              "4             1.82             4.32  1.04                          2.93   \n",
              "\n",
              "   Proline  \n",
              "0     1065  \n",
              "1     1050  \n",
              "2     1185  \n",
              "3     1480  \n",
              "4      735  "
            ],
            "text/html": [
              "\n",
              "  <div id=\"df-12bfe34b-cd71-4f6a-a56b-120c668f5303\" class=\"colab-df-container\">\n",
              "    <div>\n",
              "<style scoped>\n",
              "    .dataframe tbody tr th:only-of-type {\n",
              "        vertical-align: middle;\n",
              "    }\n",
              "\n",
              "    .dataframe tbody tr th {\n",
              "        vertical-align: top;\n",
              "    }\n",
              "\n",
              "    .dataframe thead th {\n",
              "        text-align: right;\n",
              "    }\n",
              "</style>\n",
              "<table border=\"1\" class=\"dataframe\">\n",
              "  <thead>\n",
              "    <tr style=\"text-align: right;\">\n",
              "      <th></th>\n",
              "      <th>Number of Instances</th>\n",
              "      <th>Alcohol</th>\n",
              "      <th>Malic acid</th>\n",
              "      <th>Ash</th>\n",
              "      <th>Alcalinity of ash</th>\n",
              "      <th>Magnesium</th>\n",
              "      <th>Total phenols</th>\n",
              "      <th>Flavanoids</th>\n",
              "      <th>Non Flavanoids phenols</th>\n",
              "      <th>Proanthocyanins</th>\n",
              "      <th>Color intensity</th>\n",
              "      <th>Hue</th>\n",
              "      <th>OD280/OD315 of diluted wines</th>\n",
              "      <th>Proline</th>\n",
              "    </tr>\n",
              "  </thead>\n",
              "  <tbody>\n",
              "    <tr>\n",
              "      <th>0</th>\n",
              "      <td>1</td>\n",
              "      <td>14.23</td>\n",
              "      <td>1.71</td>\n",
              "      <td>2.43</td>\n",
              "      <td>15.6</td>\n",
              "      <td>127</td>\n",
              "      <td>2.80</td>\n",
              "      <td>3.06</td>\n",
              "      <td>0.28</td>\n",
              "      <td>2.29</td>\n",
              "      <td>5.64</td>\n",
              "      <td>1.04</td>\n",
              "      <td>3.92</td>\n",
              "      <td>1065</td>\n",
              "    </tr>\n",
              "    <tr>\n",
              "      <th>1</th>\n",
              "      <td>1</td>\n",
              "      <td>13.20</td>\n",
              "      <td>1.78</td>\n",
              "      <td>2.14</td>\n",
              "      <td>11.2</td>\n",
              "      <td>100</td>\n",
              "      <td>2.65</td>\n",
              "      <td>2.76</td>\n",
              "      <td>0.26</td>\n",
              "      <td>1.28</td>\n",
              "      <td>4.38</td>\n",
              "      <td>1.05</td>\n",
              "      <td>3.40</td>\n",
              "      <td>1050</td>\n",
              "    </tr>\n",
              "    <tr>\n",
              "      <th>2</th>\n",
              "      <td>1</td>\n",
              "      <td>13.16</td>\n",
              "      <td>2.36</td>\n",
              "      <td>2.67</td>\n",
              "      <td>18.6</td>\n",
              "      <td>101</td>\n",
              "      <td>2.80</td>\n",
              "      <td>3.24</td>\n",
              "      <td>0.30</td>\n",
              "      <td>2.81</td>\n",
              "      <td>5.68</td>\n",
              "      <td>1.03</td>\n",
              "      <td>3.17</td>\n",
              "      <td>1185</td>\n",
              "    </tr>\n",
              "    <tr>\n",
              "      <th>3</th>\n",
              "      <td>1</td>\n",
              "      <td>14.37</td>\n",
              "      <td>1.95</td>\n",
              "      <td>2.50</td>\n",
              "      <td>16.8</td>\n",
              "      <td>113</td>\n",
              "      <td>3.85</td>\n",
              "      <td>3.49</td>\n",
              "      <td>0.24</td>\n",
              "      <td>2.18</td>\n",
              "      <td>7.80</td>\n",
              "      <td>0.86</td>\n",
              "      <td>3.45</td>\n",
              "      <td>1480</td>\n",
              "    </tr>\n",
              "    <tr>\n",
              "      <th>4</th>\n",
              "      <td>1</td>\n",
              "      <td>13.24</td>\n",
              "      <td>2.59</td>\n",
              "      <td>2.87</td>\n",
              "      <td>21.0</td>\n",
              "      <td>118</td>\n",
              "      <td>2.80</td>\n",
              "      <td>2.69</td>\n",
              "      <td>0.39</td>\n",
              "      <td>1.82</td>\n",
              "      <td>4.32</td>\n",
              "      <td>1.04</td>\n",
              "      <td>2.93</td>\n",
              "      <td>735</td>\n",
              "    </tr>\n",
              "  </tbody>\n",
              "</table>\n",
              "</div>\n",
              "    <div class=\"colab-df-buttons\">\n",
              "\n",
              "  <div class=\"colab-df-container\">\n",
              "    <button class=\"colab-df-convert\" onclick=\"convertToInteractive('df-12bfe34b-cd71-4f6a-a56b-120c668f5303')\"\n",
              "            title=\"Convert this dataframe to an interactive table.\"\n",
              "            style=\"display:none;\">\n",
              "\n",
              "  <svg xmlns=\"http://www.w3.org/2000/svg\" height=\"24px\" viewBox=\"0 -960 960 960\">\n",
              "    <path d=\"M120-120v-720h720v720H120Zm60-500h600v-160H180v160Zm220 220h160v-160H400v160Zm0 220h160v-160H400v160ZM180-400h160v-160H180v160Zm440 0h160v-160H620v160ZM180-180h160v-160H180v160Zm440 0h160v-160H620v160Z\"/>\n",
              "  </svg>\n",
              "    </button>\n",
              "\n",
              "  <style>\n",
              "    .colab-df-container {\n",
              "      display:flex;\n",
              "      gap: 12px;\n",
              "    }\n",
              "\n",
              "    .colab-df-convert {\n",
              "      background-color: #E8F0FE;\n",
              "      border: none;\n",
              "      border-radius: 50%;\n",
              "      cursor: pointer;\n",
              "      display: none;\n",
              "      fill: #1967D2;\n",
              "      height: 32px;\n",
              "      padding: 0 0 0 0;\n",
              "      width: 32px;\n",
              "    }\n",
              "\n",
              "    .colab-df-convert:hover {\n",
              "      background-color: #E2EBFA;\n",
              "      box-shadow: 0px 1px 2px rgba(60, 64, 67, 0.3), 0px 1px 3px 1px rgba(60, 64, 67, 0.15);\n",
              "      fill: #174EA6;\n",
              "    }\n",
              "\n",
              "    .colab-df-buttons div {\n",
              "      margin-bottom: 4px;\n",
              "    }\n",
              "\n",
              "    [theme=dark] .colab-df-convert {\n",
              "      background-color: #3B4455;\n",
              "      fill: #D2E3FC;\n",
              "    }\n",
              "\n",
              "    [theme=dark] .colab-df-convert:hover {\n",
              "      background-color: #434B5C;\n",
              "      box-shadow: 0px 1px 3px 1px rgba(0, 0, 0, 0.15);\n",
              "      filter: drop-shadow(0px 1px 2px rgba(0, 0, 0, 0.3));\n",
              "      fill: #FFFFFF;\n",
              "    }\n",
              "  </style>\n",
              "\n",
              "    <script>\n",
              "      const buttonEl =\n",
              "        document.querySelector('#df-12bfe34b-cd71-4f6a-a56b-120c668f5303 button.colab-df-convert');\n",
              "      buttonEl.style.display =\n",
              "        google.colab.kernel.accessAllowed ? 'block' : 'none';\n",
              "\n",
              "      async function convertToInteractive(key) {\n",
              "        const element = document.querySelector('#df-12bfe34b-cd71-4f6a-a56b-120c668f5303');\n",
              "        const dataTable =\n",
              "          await google.colab.kernel.invokeFunction('convertToInteractive',\n",
              "                                                    [key], {});\n",
              "        if (!dataTable) return;\n",
              "\n",
              "        const docLinkHtml = 'Like what you see? Visit the ' +\n",
              "          '<a target=\"_blank\" href=https://colab.research.google.com/notebooks/data_table.ipynb>data table notebook</a>'\n",
              "          + ' to learn more about interactive tables.';\n",
              "        element.innerHTML = '';\n",
              "        dataTable['output_type'] = 'display_data';\n",
              "        await google.colab.output.renderOutput(dataTable, element);\n",
              "        const docLink = document.createElement('div');\n",
              "        docLink.innerHTML = docLinkHtml;\n",
              "        element.appendChild(docLink);\n",
              "      }\n",
              "    </script>\n",
              "  </div>\n",
              "\n",
              "\n",
              "<div id=\"df-56a8a8fe-6b56-4a4b-960f-94090cf3394a\">\n",
              "  <button class=\"colab-df-quickchart\" onclick=\"quickchart('df-56a8a8fe-6b56-4a4b-960f-94090cf3394a')\"\n",
              "            title=\"Suggest charts.\"\n",
              "            style=\"display:none;\">\n",
              "\n",
              "<svg xmlns=\"http://www.w3.org/2000/svg\" height=\"24px\"viewBox=\"0 0 24 24\"\n",
              "     width=\"24px\">\n",
              "    <g>\n",
              "        <path d=\"M19 3H5c-1.1 0-2 .9-2 2v14c0 1.1.9 2 2 2h14c1.1 0 2-.9 2-2V5c0-1.1-.9-2-2-2zM9 17H7v-7h2v7zm4 0h-2V7h2v10zm4 0h-2v-4h2v4z\"/>\n",
              "    </g>\n",
              "</svg>\n",
              "  </button>\n",
              "\n",
              "<style>\n",
              "  .colab-df-quickchart {\n",
              "      --bg-color: #E8F0FE;\n",
              "      --fill-color: #1967D2;\n",
              "      --hover-bg-color: #E2EBFA;\n",
              "      --hover-fill-color: #174EA6;\n",
              "      --disabled-fill-color: #AAA;\n",
              "      --disabled-bg-color: #DDD;\n",
              "  }\n",
              "\n",
              "  [theme=dark] .colab-df-quickchart {\n",
              "      --bg-color: #3B4455;\n",
              "      --fill-color: #D2E3FC;\n",
              "      --hover-bg-color: #434B5C;\n",
              "      --hover-fill-color: #FFFFFF;\n",
              "      --disabled-bg-color: #3B4455;\n",
              "      --disabled-fill-color: #666;\n",
              "  }\n",
              "\n",
              "  .colab-df-quickchart {\n",
              "    background-color: var(--bg-color);\n",
              "    border: none;\n",
              "    border-radius: 50%;\n",
              "    cursor: pointer;\n",
              "    display: none;\n",
              "    fill: var(--fill-color);\n",
              "    height: 32px;\n",
              "    padding: 0;\n",
              "    width: 32px;\n",
              "  }\n",
              "\n",
              "  .colab-df-quickchart:hover {\n",
              "    background-color: var(--hover-bg-color);\n",
              "    box-shadow: 0 1px 2px rgba(60, 64, 67, 0.3), 0 1px 3px 1px rgba(60, 64, 67, 0.15);\n",
              "    fill: var(--button-hover-fill-color);\n",
              "  }\n",
              "\n",
              "  .colab-df-quickchart-complete:disabled,\n",
              "  .colab-df-quickchart-complete:disabled:hover {\n",
              "    background-color: var(--disabled-bg-color);\n",
              "    fill: var(--disabled-fill-color);\n",
              "    box-shadow: none;\n",
              "  }\n",
              "\n",
              "  .colab-df-spinner {\n",
              "    border: 2px solid var(--fill-color);\n",
              "    border-color: transparent;\n",
              "    border-bottom-color: var(--fill-color);\n",
              "    animation:\n",
              "      spin 1s steps(1) infinite;\n",
              "  }\n",
              "\n",
              "  @keyframes spin {\n",
              "    0% {\n",
              "      border-color: transparent;\n",
              "      border-bottom-color: var(--fill-color);\n",
              "      border-left-color: var(--fill-color);\n",
              "    }\n",
              "    20% {\n",
              "      border-color: transparent;\n",
              "      border-left-color: var(--fill-color);\n",
              "      border-top-color: var(--fill-color);\n",
              "    }\n",
              "    30% {\n",
              "      border-color: transparent;\n",
              "      border-left-color: var(--fill-color);\n",
              "      border-top-color: var(--fill-color);\n",
              "      border-right-color: var(--fill-color);\n",
              "    }\n",
              "    40% {\n",
              "      border-color: transparent;\n",
              "      border-right-color: var(--fill-color);\n",
              "      border-top-color: var(--fill-color);\n",
              "    }\n",
              "    60% {\n",
              "      border-color: transparent;\n",
              "      border-right-color: var(--fill-color);\n",
              "    }\n",
              "    80% {\n",
              "      border-color: transparent;\n",
              "      border-right-color: var(--fill-color);\n",
              "      border-bottom-color: var(--fill-color);\n",
              "    }\n",
              "    90% {\n",
              "      border-color: transparent;\n",
              "      border-bottom-color: var(--fill-color);\n",
              "    }\n",
              "  }\n",
              "</style>\n",
              "\n",
              "  <script>\n",
              "    async function quickchart(key) {\n",
              "      const quickchartButtonEl =\n",
              "        document.querySelector('#' + key + ' button');\n",
              "      quickchartButtonEl.disabled = true;  // To prevent multiple clicks.\n",
              "      quickchartButtonEl.classList.add('colab-df-spinner');\n",
              "      try {\n",
              "        const charts = await google.colab.kernel.invokeFunction(\n",
              "            'suggestCharts', [key], {});\n",
              "      } catch (error) {\n",
              "        console.error('Error during call to suggestCharts:', error);\n",
              "      }\n",
              "      quickchartButtonEl.classList.remove('colab-df-spinner');\n",
              "      quickchartButtonEl.classList.add('colab-df-quickchart-complete');\n",
              "    }\n",
              "    (() => {\n",
              "      let quickchartButtonEl =\n",
              "        document.querySelector('#df-56a8a8fe-6b56-4a4b-960f-94090cf3394a button');\n",
              "      quickchartButtonEl.style.display =\n",
              "        google.colab.kernel.accessAllowed ? 'block' : 'none';\n",
              "    })();\n",
              "  </script>\n",
              "</div>\n",
              "    </div>\n",
              "  </div>\n"
            ]
          },
          "metadata": {},
          "execution_count": 4
        }
      ]
    },
    {
      "cell_type": "code",
      "source": [
        "#cek jumlah baris dan kolom dari dataframe\n",
        "print(df.shape)"
      ],
      "metadata": {
        "colab": {
          "base_uri": "https://localhost:8080/"
        },
        "id": "O6NRGA6izmix",
        "outputId": "2a66898b-9177-49e2-e390-11d0f380de31"
      },
      "execution_count": 5,
      "outputs": [
        {
          "output_type": "stream",
          "name": "stdout",
          "text": [
            "(178, 14)\n"
          ]
        }
      ]
    },
    {
      "cell_type": "code",
      "source": [
        "#Lihat statistik dataframe\n",
        "df.describe()"
      ],
      "metadata": {
        "colab": {
          "base_uri": "https://localhost:8080/",
          "height": 0
        },
        "id": "NpToV5sH6YO4",
        "outputId": "cf84baf7-94bd-45c8-b295-40c463c74e38"
      },
      "execution_count": 6,
      "outputs": [
        {
          "output_type": "execute_result",
          "data": {
            "text/plain": [
              "       Number of Instances     Alcohol  Malic acid         Ash  \\\n",
              "count           178.000000  178.000000  178.000000  178.000000   \n",
              "mean              1.938202   13.000618    2.336348    2.366517   \n",
              "std               0.775035    0.811827    1.117146    0.274344   \n",
              "min               1.000000   11.030000    0.740000    1.360000   \n",
              "25%               1.000000   12.362500    1.602500    2.210000   \n",
              "50%               2.000000   13.050000    1.865000    2.360000   \n",
              "75%               3.000000   13.677500    3.082500    2.557500   \n",
              "max               3.000000   14.830000    5.800000    3.230000   \n",
              "\n",
              "       Alcalinity of ash   Magnesium  Total phenols  Flavanoids  \\\n",
              "count         178.000000  178.000000     178.000000  178.000000   \n",
              "mean           19.494944   99.741573       2.295112    2.029270   \n",
              "std             3.339564   14.282484       0.625851    0.998859   \n",
              "min            10.600000   70.000000       0.980000    0.340000   \n",
              "25%            17.200000   88.000000       1.742500    1.205000   \n",
              "50%            19.500000   98.000000       2.355000    2.135000   \n",
              "75%            21.500000  107.000000       2.800000    2.875000   \n",
              "max            30.000000  162.000000       3.880000    5.080000   \n",
              "\n",
              "       Non Flavanoids phenols  Proanthocyanins  Color intensity         Hue  \\\n",
              "count              178.000000       178.000000       178.000000  178.000000   \n",
              "mean                 0.361854         1.590899         5.058090    0.957449   \n",
              "std                  0.124453         0.572359         2.318286    0.228572   \n",
              "min                  0.130000         0.410000         1.280000    0.480000   \n",
              "25%                  0.270000         1.250000         3.220000    0.782500   \n",
              "50%                  0.340000         1.555000         4.690000    0.965000   \n",
              "75%                  0.437500         1.950000         6.200000    1.120000   \n",
              "max                  0.660000         3.580000        13.000000    1.710000   \n",
              "\n",
              "       OD280/OD315 of diluted wines      Proline  \n",
              "count                    178.000000   178.000000  \n",
              "mean                       2.611685   746.893258  \n",
              "std                        0.709990   314.907474  \n",
              "min                        1.270000   278.000000  \n",
              "25%                        1.937500   500.500000  \n",
              "50%                        2.780000   673.500000  \n",
              "75%                        3.170000   985.000000  \n",
              "max                        4.000000  1680.000000  "
            ],
            "text/html": [
              "\n",
              "  <div id=\"df-64f75682-11d4-49b2-b849-4224fe4f7d80\" class=\"colab-df-container\">\n",
              "    <div>\n",
              "<style scoped>\n",
              "    .dataframe tbody tr th:only-of-type {\n",
              "        vertical-align: middle;\n",
              "    }\n",
              "\n",
              "    .dataframe tbody tr th {\n",
              "        vertical-align: top;\n",
              "    }\n",
              "\n",
              "    .dataframe thead th {\n",
              "        text-align: right;\n",
              "    }\n",
              "</style>\n",
              "<table border=\"1\" class=\"dataframe\">\n",
              "  <thead>\n",
              "    <tr style=\"text-align: right;\">\n",
              "      <th></th>\n",
              "      <th>Number of Instances</th>\n",
              "      <th>Alcohol</th>\n",
              "      <th>Malic acid</th>\n",
              "      <th>Ash</th>\n",
              "      <th>Alcalinity of ash</th>\n",
              "      <th>Magnesium</th>\n",
              "      <th>Total phenols</th>\n",
              "      <th>Flavanoids</th>\n",
              "      <th>Non Flavanoids phenols</th>\n",
              "      <th>Proanthocyanins</th>\n",
              "      <th>Color intensity</th>\n",
              "      <th>Hue</th>\n",
              "      <th>OD280/OD315 of diluted wines</th>\n",
              "      <th>Proline</th>\n",
              "    </tr>\n",
              "  </thead>\n",
              "  <tbody>\n",
              "    <tr>\n",
              "      <th>count</th>\n",
              "      <td>178.000000</td>\n",
              "      <td>178.000000</td>\n",
              "      <td>178.000000</td>\n",
              "      <td>178.000000</td>\n",
              "      <td>178.000000</td>\n",
              "      <td>178.000000</td>\n",
              "      <td>178.000000</td>\n",
              "      <td>178.000000</td>\n",
              "      <td>178.000000</td>\n",
              "      <td>178.000000</td>\n",
              "      <td>178.000000</td>\n",
              "      <td>178.000000</td>\n",
              "      <td>178.000000</td>\n",
              "      <td>178.000000</td>\n",
              "    </tr>\n",
              "    <tr>\n",
              "      <th>mean</th>\n",
              "      <td>1.938202</td>\n",
              "      <td>13.000618</td>\n",
              "      <td>2.336348</td>\n",
              "      <td>2.366517</td>\n",
              "      <td>19.494944</td>\n",
              "      <td>99.741573</td>\n",
              "      <td>2.295112</td>\n",
              "      <td>2.029270</td>\n",
              "      <td>0.361854</td>\n",
              "      <td>1.590899</td>\n",
              "      <td>5.058090</td>\n",
              "      <td>0.957449</td>\n",
              "      <td>2.611685</td>\n",
              "      <td>746.893258</td>\n",
              "    </tr>\n",
              "    <tr>\n",
              "      <th>std</th>\n",
              "      <td>0.775035</td>\n",
              "      <td>0.811827</td>\n",
              "      <td>1.117146</td>\n",
              "      <td>0.274344</td>\n",
              "      <td>3.339564</td>\n",
              "      <td>14.282484</td>\n",
              "      <td>0.625851</td>\n",
              "      <td>0.998859</td>\n",
              "      <td>0.124453</td>\n",
              "      <td>0.572359</td>\n",
              "      <td>2.318286</td>\n",
              "      <td>0.228572</td>\n",
              "      <td>0.709990</td>\n",
              "      <td>314.907474</td>\n",
              "    </tr>\n",
              "    <tr>\n",
              "      <th>min</th>\n",
              "      <td>1.000000</td>\n",
              "      <td>11.030000</td>\n",
              "      <td>0.740000</td>\n",
              "      <td>1.360000</td>\n",
              "      <td>10.600000</td>\n",
              "      <td>70.000000</td>\n",
              "      <td>0.980000</td>\n",
              "      <td>0.340000</td>\n",
              "      <td>0.130000</td>\n",
              "      <td>0.410000</td>\n",
              "      <td>1.280000</td>\n",
              "      <td>0.480000</td>\n",
              "      <td>1.270000</td>\n",
              "      <td>278.000000</td>\n",
              "    </tr>\n",
              "    <tr>\n",
              "      <th>25%</th>\n",
              "      <td>1.000000</td>\n",
              "      <td>12.362500</td>\n",
              "      <td>1.602500</td>\n",
              "      <td>2.210000</td>\n",
              "      <td>17.200000</td>\n",
              "      <td>88.000000</td>\n",
              "      <td>1.742500</td>\n",
              "      <td>1.205000</td>\n",
              "      <td>0.270000</td>\n",
              "      <td>1.250000</td>\n",
              "      <td>3.220000</td>\n",
              "      <td>0.782500</td>\n",
              "      <td>1.937500</td>\n",
              "      <td>500.500000</td>\n",
              "    </tr>\n",
              "    <tr>\n",
              "      <th>50%</th>\n",
              "      <td>2.000000</td>\n",
              "      <td>13.050000</td>\n",
              "      <td>1.865000</td>\n",
              "      <td>2.360000</td>\n",
              "      <td>19.500000</td>\n",
              "      <td>98.000000</td>\n",
              "      <td>2.355000</td>\n",
              "      <td>2.135000</td>\n",
              "      <td>0.340000</td>\n",
              "      <td>1.555000</td>\n",
              "      <td>4.690000</td>\n",
              "      <td>0.965000</td>\n",
              "      <td>2.780000</td>\n",
              "      <td>673.500000</td>\n",
              "    </tr>\n",
              "    <tr>\n",
              "      <th>75%</th>\n",
              "      <td>3.000000</td>\n",
              "      <td>13.677500</td>\n",
              "      <td>3.082500</td>\n",
              "      <td>2.557500</td>\n",
              "      <td>21.500000</td>\n",
              "      <td>107.000000</td>\n",
              "      <td>2.800000</td>\n",
              "      <td>2.875000</td>\n",
              "      <td>0.437500</td>\n",
              "      <td>1.950000</td>\n",
              "      <td>6.200000</td>\n",
              "      <td>1.120000</td>\n",
              "      <td>3.170000</td>\n",
              "      <td>985.000000</td>\n",
              "    </tr>\n",
              "    <tr>\n",
              "      <th>max</th>\n",
              "      <td>3.000000</td>\n",
              "      <td>14.830000</td>\n",
              "      <td>5.800000</td>\n",
              "      <td>3.230000</td>\n",
              "      <td>30.000000</td>\n",
              "      <td>162.000000</td>\n",
              "      <td>3.880000</td>\n",
              "      <td>5.080000</td>\n",
              "      <td>0.660000</td>\n",
              "      <td>3.580000</td>\n",
              "      <td>13.000000</td>\n",
              "      <td>1.710000</td>\n",
              "      <td>4.000000</td>\n",
              "      <td>1680.000000</td>\n",
              "    </tr>\n",
              "  </tbody>\n",
              "</table>\n",
              "</div>\n",
              "    <div class=\"colab-df-buttons\">\n",
              "\n",
              "  <div class=\"colab-df-container\">\n",
              "    <button class=\"colab-df-convert\" onclick=\"convertToInteractive('df-64f75682-11d4-49b2-b849-4224fe4f7d80')\"\n",
              "            title=\"Convert this dataframe to an interactive table.\"\n",
              "            style=\"display:none;\">\n",
              "\n",
              "  <svg xmlns=\"http://www.w3.org/2000/svg\" height=\"24px\" viewBox=\"0 -960 960 960\">\n",
              "    <path d=\"M120-120v-720h720v720H120Zm60-500h600v-160H180v160Zm220 220h160v-160H400v160Zm0 220h160v-160H400v160ZM180-400h160v-160H180v160Zm440 0h160v-160H620v160ZM180-180h160v-160H180v160Zm440 0h160v-160H620v160Z\"/>\n",
              "  </svg>\n",
              "    </button>\n",
              "\n",
              "  <style>\n",
              "    .colab-df-container {\n",
              "      display:flex;\n",
              "      gap: 12px;\n",
              "    }\n",
              "\n",
              "    .colab-df-convert {\n",
              "      background-color: #E8F0FE;\n",
              "      border: none;\n",
              "      border-radius: 50%;\n",
              "      cursor: pointer;\n",
              "      display: none;\n",
              "      fill: #1967D2;\n",
              "      height: 32px;\n",
              "      padding: 0 0 0 0;\n",
              "      width: 32px;\n",
              "    }\n",
              "\n",
              "    .colab-df-convert:hover {\n",
              "      background-color: #E2EBFA;\n",
              "      box-shadow: 0px 1px 2px rgba(60, 64, 67, 0.3), 0px 1px 3px 1px rgba(60, 64, 67, 0.15);\n",
              "      fill: #174EA6;\n",
              "    }\n",
              "\n",
              "    .colab-df-buttons div {\n",
              "      margin-bottom: 4px;\n",
              "    }\n",
              "\n",
              "    [theme=dark] .colab-df-convert {\n",
              "      background-color: #3B4455;\n",
              "      fill: #D2E3FC;\n",
              "    }\n",
              "\n",
              "    [theme=dark] .colab-df-convert:hover {\n",
              "      background-color: #434B5C;\n",
              "      box-shadow: 0px 1px 3px 1px rgba(0, 0, 0, 0.15);\n",
              "      filter: drop-shadow(0px 1px 2px rgba(0, 0, 0, 0.3));\n",
              "      fill: #FFFFFF;\n",
              "    }\n",
              "  </style>\n",
              "\n",
              "    <script>\n",
              "      const buttonEl =\n",
              "        document.querySelector('#df-64f75682-11d4-49b2-b849-4224fe4f7d80 button.colab-df-convert');\n",
              "      buttonEl.style.display =\n",
              "        google.colab.kernel.accessAllowed ? 'block' : 'none';\n",
              "\n",
              "      async function convertToInteractive(key) {\n",
              "        const element = document.querySelector('#df-64f75682-11d4-49b2-b849-4224fe4f7d80');\n",
              "        const dataTable =\n",
              "          await google.colab.kernel.invokeFunction('convertToInteractive',\n",
              "                                                    [key], {});\n",
              "        if (!dataTable) return;\n",
              "\n",
              "        const docLinkHtml = 'Like what you see? Visit the ' +\n",
              "          '<a target=\"_blank\" href=https://colab.research.google.com/notebooks/data_table.ipynb>data table notebook</a>'\n",
              "          + ' to learn more about interactive tables.';\n",
              "        element.innerHTML = '';\n",
              "        dataTable['output_type'] = 'display_data';\n",
              "        await google.colab.output.renderOutput(dataTable, element);\n",
              "        const docLink = document.createElement('div');\n",
              "        docLink.innerHTML = docLinkHtml;\n",
              "        element.appendChild(docLink);\n",
              "      }\n",
              "    </script>\n",
              "  </div>\n",
              "\n",
              "\n",
              "<div id=\"df-bb3e8f91-7ad8-4ea8-b019-08045cfb51e6\">\n",
              "  <button class=\"colab-df-quickchart\" onclick=\"quickchart('df-bb3e8f91-7ad8-4ea8-b019-08045cfb51e6')\"\n",
              "            title=\"Suggest charts.\"\n",
              "            style=\"display:none;\">\n",
              "\n",
              "<svg xmlns=\"http://www.w3.org/2000/svg\" height=\"24px\"viewBox=\"0 0 24 24\"\n",
              "     width=\"24px\">\n",
              "    <g>\n",
              "        <path d=\"M19 3H5c-1.1 0-2 .9-2 2v14c0 1.1.9 2 2 2h14c1.1 0 2-.9 2-2V5c0-1.1-.9-2-2-2zM9 17H7v-7h2v7zm4 0h-2V7h2v10zm4 0h-2v-4h2v4z\"/>\n",
              "    </g>\n",
              "</svg>\n",
              "  </button>\n",
              "\n",
              "<style>\n",
              "  .colab-df-quickchart {\n",
              "      --bg-color: #E8F0FE;\n",
              "      --fill-color: #1967D2;\n",
              "      --hover-bg-color: #E2EBFA;\n",
              "      --hover-fill-color: #174EA6;\n",
              "      --disabled-fill-color: #AAA;\n",
              "      --disabled-bg-color: #DDD;\n",
              "  }\n",
              "\n",
              "  [theme=dark] .colab-df-quickchart {\n",
              "      --bg-color: #3B4455;\n",
              "      --fill-color: #D2E3FC;\n",
              "      --hover-bg-color: #434B5C;\n",
              "      --hover-fill-color: #FFFFFF;\n",
              "      --disabled-bg-color: #3B4455;\n",
              "      --disabled-fill-color: #666;\n",
              "  }\n",
              "\n",
              "  .colab-df-quickchart {\n",
              "    background-color: var(--bg-color);\n",
              "    border: none;\n",
              "    border-radius: 50%;\n",
              "    cursor: pointer;\n",
              "    display: none;\n",
              "    fill: var(--fill-color);\n",
              "    height: 32px;\n",
              "    padding: 0;\n",
              "    width: 32px;\n",
              "  }\n",
              "\n",
              "  .colab-df-quickchart:hover {\n",
              "    background-color: var(--hover-bg-color);\n",
              "    box-shadow: 0 1px 2px rgba(60, 64, 67, 0.3), 0 1px 3px 1px rgba(60, 64, 67, 0.15);\n",
              "    fill: var(--button-hover-fill-color);\n",
              "  }\n",
              "\n",
              "  .colab-df-quickchart-complete:disabled,\n",
              "  .colab-df-quickchart-complete:disabled:hover {\n",
              "    background-color: var(--disabled-bg-color);\n",
              "    fill: var(--disabled-fill-color);\n",
              "    box-shadow: none;\n",
              "  }\n",
              "\n",
              "  .colab-df-spinner {\n",
              "    border: 2px solid var(--fill-color);\n",
              "    border-color: transparent;\n",
              "    border-bottom-color: var(--fill-color);\n",
              "    animation:\n",
              "      spin 1s steps(1) infinite;\n",
              "  }\n",
              "\n",
              "  @keyframes spin {\n",
              "    0% {\n",
              "      border-color: transparent;\n",
              "      border-bottom-color: var(--fill-color);\n",
              "      border-left-color: var(--fill-color);\n",
              "    }\n",
              "    20% {\n",
              "      border-color: transparent;\n",
              "      border-left-color: var(--fill-color);\n",
              "      border-top-color: var(--fill-color);\n",
              "    }\n",
              "    30% {\n",
              "      border-color: transparent;\n",
              "      border-left-color: var(--fill-color);\n",
              "      border-top-color: var(--fill-color);\n",
              "      border-right-color: var(--fill-color);\n",
              "    }\n",
              "    40% {\n",
              "      border-color: transparent;\n",
              "      border-right-color: var(--fill-color);\n",
              "      border-top-color: var(--fill-color);\n",
              "    }\n",
              "    60% {\n",
              "      border-color: transparent;\n",
              "      border-right-color: var(--fill-color);\n",
              "    }\n",
              "    80% {\n",
              "      border-color: transparent;\n",
              "      border-right-color: var(--fill-color);\n",
              "      border-bottom-color: var(--fill-color);\n",
              "    }\n",
              "    90% {\n",
              "      border-color: transparent;\n",
              "      border-bottom-color: var(--fill-color);\n",
              "    }\n",
              "  }\n",
              "</style>\n",
              "\n",
              "  <script>\n",
              "    async function quickchart(key) {\n",
              "      const quickchartButtonEl =\n",
              "        document.querySelector('#' + key + ' button');\n",
              "      quickchartButtonEl.disabled = true;  // To prevent multiple clicks.\n",
              "      quickchartButtonEl.classList.add('colab-df-spinner');\n",
              "      try {\n",
              "        const charts = await google.colab.kernel.invokeFunction(\n",
              "            'suggestCharts', [key], {});\n",
              "      } catch (error) {\n",
              "        console.error('Error during call to suggestCharts:', error);\n",
              "      }\n",
              "      quickchartButtonEl.classList.remove('colab-df-spinner');\n",
              "      quickchartButtonEl.classList.add('colab-df-quickchart-complete');\n",
              "    }\n",
              "    (() => {\n",
              "      let quickchartButtonEl =\n",
              "        document.querySelector('#df-bb3e8f91-7ad8-4ea8-b019-08045cfb51e6 button');\n",
              "      quickchartButtonEl.style.display =\n",
              "        google.colab.kernel.accessAllowed ? 'block' : 'none';\n",
              "    })();\n",
              "  </script>\n",
              "</div>\n",
              "    </div>\n",
              "  </div>\n"
            ]
          },
          "metadata": {},
          "execution_count": 6
        }
      ]
    },
    {
      "cell_type": "markdown",
      "source": [
        "# Memisahkan Kolom target dengan kolom feature"
      ],
      "metadata": {
        "id": "kImo2lOL6IWQ"
      }
    },
    {
      "cell_type": "code",
      "source": [
        "#Pisah Feature dan Target\n",
        "X = df.drop(columns='Number of Instances', axis=1)\n",
        "Y = df['Number of Instances']"
      ],
      "metadata": {
        "id": "ih9afbdM6x7w"
      },
      "execution_count": 7,
      "outputs": []
    },
    {
      "cell_type": "code",
      "source": [
        "# Split dataset into training set and test set\n",
        "from sklearn.model_selection import train_test_split # Import train_test_split function\n",
        "X_train, X_test, y_train, y_test = train_test_split(X, Y, test_size=0.3, random_state=42) # 70% training and 30% test"
      ],
      "metadata": {
        "id": "t7ryy2KD67tf"
      },
      "execution_count": 8,
      "outputs": []
    },
    {
      "cell_type": "markdown",
      "source": [
        "# Algoritma KNN dan Naive Bayes tanpa pre-procesing"
      ],
      "metadata": {
        "id": "9jCNGlTs7env"
      }
    },
    {
      "cell_type": "markdown",
      "source": [
        "**K-Nearest Neighbor (KNN)**"
      ],
      "metadata": {
        "id": "5dRBpbs5MitL"
      }
    },
    {
      "cell_type": "code",
      "source": [
        "from sklearn.neighbors import KNeighborsClassifier\n",
        "from sklearn.model_selection import cross_validate,cross_val_score\n",
        "modelknn=KNeighborsClassifier(n_neighbors=43, weights='distance')\n",
        "\n",
        "cv_score1=cross_validate(modelknn,X,Y,cv=5, return_train_score=True)\n",
        "cv_score2=cross_val_score(modelknn,X,Y,cv=10)\n",
        "\n",
        "print(\"Train Score 1:\", cv_score1['train_score'].mean())\n",
        "print(\"Test Score 1:\", cv_score1['test_score'].mean())\n",
        "print(\"Train Score 2:\", cv_score1['train_score'].mean())\n",
        "print(\"Test Score 2:\", cv_score2.mean())"
      ],
      "metadata": {
        "colab": {
          "base_uri": "https://localhost:8080/"
        },
        "id": "QL8xP6VT7mAe",
        "outputId": "86bd2be0-dd5f-46cd-a9f2-69a759f4f7a4"
      },
      "execution_count": 9,
      "outputs": [
        {
          "output_type": "stream",
          "name": "stdout",
          "text": [
            "Train Score 1: 1.0\n",
            "Test Score 1: 0.7198412698412698\n",
            "Train Score 2: 1.0\n",
            "Test Score 2: 0.7258169934640523\n"
          ]
        }
      ]
    },
    {
      "cell_type": "code",
      "source": [
        "def knn_predict(k) :\n",
        "    modelknn = KNeighborsClassifier(n_neighbors=k)\n",
        "    score = cross_validate(modelknn,X,Y,cv=10, return_train_score=True)\n",
        "    train_score = score['train_score'].mean()\n",
        "    test_score = score['test_score'].mean()\n",
        "    return train_score, test_score"
      ],
      "metadata": {
        "id": "Nm9rloVA9x-e"
      },
      "execution_count": 10,
      "outputs": []
    },
    {
      "cell_type": "code",
      "source": [
        "#Tuning Hyperparameter KNN manual\n",
        "train_scores=[]\n",
        "test_scores=[]\n",
        "for k in range (2,100):\n",
        "    train_score, test_score=knn_predict(k)\n",
        "    train_scores.append(train_score)\n",
        "    test_scores.append(test_score)"
      ],
      "metadata": {
        "id": "gz3DKRvLSQNQ"
      },
      "execution_count": 11,
      "outputs": []
    },
    {
      "cell_type": "code",
      "source": [
        "import matplotlib.pyplot as plt\n",
        "fig,ax = plt.subplots(figsize=(14,8))\n",
        "ax.plot(range(2,100),train_scores, marker='x', color='b', label='Train Scores')\n",
        "ax.plot(range(2,100),test_scores, marker='o', color='g', label='Test Scores')\n",
        "ax.set_xlabel('Nilai K')\n",
        "ax.set_ylabel('Scores')\n",
        "fig.legend()\n",
        "plt.show\n",
        "\n",
        "# Menggunakan NumPy untuk mencari indeks titik tertinggi\n",
        "indeks_titik_tertinggi = np.argmax(test_scores)\n",
        "nilai_titik_tertinggi = test_scores[indeks_titik_tertinggi]\n",
        "\n",
        "print(\"Titik Tertinggi Terletak pada Indeks:\", indeks_titik_tertinggi)\n",
        "print(\"Nilai Titik Tertinggi:\", nilai_titik_tertinggi)"
      ],
      "metadata": {
        "id": "30sMF8yISiqs",
        "outputId": "3597fe0c-b89f-4253-c32d-ef10ee1ccb66",
        "colab": {
          "base_uri": "https://localhost:8080/",
          "height": 0
        }
      },
      "execution_count": 12,
      "outputs": [
        {
          "output_type": "stream",
          "name": "stdout",
          "text": [
            "Titik Tertinggi Terletak pada Indeks: 21\n",
            "Nilai Titik Tertinggi: 0.7310457516339869\n"
          ]
        },
        {
          "output_type": "display_data",
          "data": {
            "text/plain": [
              "<Figure size 1400x800 with 1 Axes>"
            ],
            "image/png": "[encoded data removed]"
          },
          "metadata": {}
        }
      ]
    },
    {
      "cell_type": "code",
      "source": [
        "#Tuning Hyperparameter KNN otomatis dengan GridSearchCV\n",
        "from sklearn.model_selection import GridSearchCV\n",
        "modelknn = KNeighborsClassifier()\n",
        "param_grid={'n_neighbors':np.arange(5,50),'weights':['distance','uniform']}\n",
        "gscv=GridSearchCV(modelknn, param_grid=param_grid, scoring='accuracy', cv=5)\n",
        "gscv.fit(X,Y)\n",
        "print(gscv.best_params_,gscv.best_score_)"
      ],
      "metadata": {
        "id": "j8xSUgtdSxDg",
        "outputId": "5aa79a9f-247b-43b8-cafb-d7fc9ead6f71",
        "colab": {
          "base_uri": "https://localhost:8080/"
        }
      },
      "execution_count": 13,
      "outputs": [
        {
          "output_type": "stream",
          "name": "stdout",
          "text": [
            "{'n_neighbors': 37, 'weights': 'distance'} 0.7255555555555555\n"
          ]
        }
      ]
    },
    {
      "cell_type": "code",
      "source": [
        "#Tuning Hyperparameter KNN otomatis dengan RandomGridSearchCV , default iter =10\n",
        "from sklearn.model_selection import RandomizedSearchCV\n",
        "modelknn = KNeighborsClassifier()\n",
        "param_grid={'n_neighbors':np.arange(5,50),'weights':['distance','uniform']}\n",
        "rscv=RandomizedSearchCV(modelknn, param_grid,n_iter=15, scoring='accuracy', cv=5)\n",
        "rscv.fit(X,Y)\n",
        "print(rscv.best_params_, rscv.best_score_)"
      ],
      "metadata": {
        "id": "xGFBKDvOTEUz",
        "outputId": "7914d7d5-6883-4f69-c50f-6157506ace7f",
        "colab": {
          "base_uri": "https://localhost:8080/"
        }
      },
      "execution_count": 14,
      "outputs": [
        {
          "output_type": "stream",
          "name": "stdout",
          "text": [
            "{'weights': 'distance', 'n_neighbors': 37} 0.7255555555555555\n"
          ]
        }
      ]
    },
    {
      "cell_type": "markdown",
      "source": [
        "**Naive Bayes**"
      ],
      "metadata": {
        "id": "Xy7moZ9lMtH6"
      }
    },
    {
      "cell_type": "code",
      "source": [
        "from sklearn.naive_bayes import GaussianNB\n",
        "modelnb=GaussianNB()\n",
        "\n",
        "cv_score1=cross_validate(modelnb,X,Y,cv=5, return_train_score=True)\n",
        "cv_score2=cross_val_score(modelnb,X,Y,cv=10)\n",
        "\n",
        "print(\"Train Score 1:\", cv_score1['train_score'].mean())\n",
        "print(\"Test Score 1:\", cv_score1['test_score'].mean())\n",
        "print(\"Train Score 2:\", cv_score1['train_score'].mean())\n",
        "print(\"Test Score 2:\", cv_score2.mean())"
      ],
      "metadata": {
        "id": "VJiTMHylXpZO",
        "outputId": "8658712d-3c19-4607-a942-272d8f1f6319",
        "colab": {
          "base_uri": "https://localhost:8080/"
        }
      },
      "execution_count": 15,
      "outputs": [
        {
          "output_type": "stream",
          "name": "stdout",
          "text": [
            "Train Score 1: 0.988781640894317\n",
            "Test Score 1: 0.9663492063492063\n",
            "Train Score 2: 0.988781640894317\n",
            "Test Score 2: 0.9777777777777779\n"
          ]
        }
      ]
    },
    {
      "cell_type": "code",
      "source": [
        "#Tuning Hyperparameter\n",
        "from sklearn.model_selection import RepeatedStratifiedKFold\n",
        "cv_method = RepeatedStratifiedKFold(n_splits=10,  n_repeats=3, random_state=999)\n",
        "param_grid_nb = {'var_smoothing': np.logspace(0,-9, num=100)}\n",
        "\n",
        "from sklearn.model_selection import GridSearchCV\n",
        "gs_NB = GridSearchCV(estimator=modelnb, param_grid=param_grid_nb, cv=cv_method,verbose=1,scoring='accuracy')\n",
        "gs_NB.fit(X,Y)\n",
        "print(gs_NB.best_params_,gs_NB.best_score_)"
      ],
      "metadata": {
        "id": "28EP1tbGad43",
        "outputId": "22b23f52-766c-4d41-f3a1-a804d0b3b00e",
        "colab": {
          "base_uri": "https://localhost:8080/"
        }
      },
      "execution_count": 16,
      "outputs": [
        {
          "output_type": "stream",
          "name": "stdout",
          "text": [
            "Fitting 30 folds for each of 100 candidates, totalling 3000 fits\n",
            "{'var_smoothing': 2.310129700083158e-09} 0.9716775599128541\n"
          ]
        }
      ]
    },
    {
      "cell_type": "markdown",
      "source": [
        "# Pre-procesing"
      ],
      "metadata": {
        "id": "OMsz_TkN--DH"
      }
    },
    {
      "cell_type": "markdown",
      "source": [
        "**Pemilihan FItur/Atribut penting**\n",
        " : Melihat fitur terpenting dari data yang paling berpengaruh pada kolom target (Number of Instances)"
      ],
      "metadata": {
        "id": "2Tdf7t0KCNaX"
      }
    },
    {
      "cell_type": "code",
      "source": [
        "from sklearn.tree import DecisionTreeRegressor\n",
        "\n",
        "# Inisialisasi model pohon keputusan\n",
        "model = DecisionTreeRegressor()\n",
        "\n",
        "# Latih model pada data\n",
        "model.fit(X, Y)\n",
        "\n",
        "# Dapatkan pentingnya fitur (feature importance) dari model\n",
        "feature_importance = model.feature_importances_\n",
        "\n",
        "# Tentukan ambang batas (threshold) untuk kepentingan fitur\n",
        "threshold = 0.001  # Ganti dengan ambang batas yang sesuai\n",
        "\n",
        "# Filter fitur-fitur yang penting berdasarkan ambang batas\n",
        "important_features = X.columns[feature_importance >= threshold]\n",
        "\n",
        "# Buat DataFrame baru hanya dengan fitur-fitur penting\n",
        "df_important = X[important_features]\n",
        "\n",
        "# Tampilkan fitur-fitur penting\n",
        "print(\"Fitur-Fitur Penting:\")\n",
        "print(df_important.head())\n",
        "\n",
        "# Buat plot untuk menampilkan pentingnya fitur-fitur\n",
        "plt.figure(figsize=(30, 6))\n",
        "plt.bar(X.columns, feature_importance)\n",
        "plt.xlabel('Fitur Prediktif')\n",
        "plt.ylabel('Pentingnya Fitur')\n",
        "plt.title('Pentingnya Fitur Prediktif')\n",
        "plt.show()\n",
        "\n",
        "print(dict(zip(X.columns, feature_importance)))"
      ],
      "metadata": {
        "colab": {
          "base_uri": "https://localhost:8080/",
          "height": 0
        },
        "id": "Ea68GyUdAa6P",
        "outputId": "75574f98-fcbe-4930-c992-4f570de2ca11"
      },
      "execution_count": 17,
      "outputs": [
        {
          "output_type": "stream",
          "name": "stdout",
          "text": [
            "Fitur-Fitur Penting:\n",
            "   Alcohol  Flavanoids  Color intensity   Hue  Proline\n",
            "0    14.23        3.06             5.64  1.04     1065\n",
            "1    13.20        2.76             4.38  1.05     1050\n",
            "2    13.16        3.24             5.68  1.03     1185\n",
            "3    14.37        3.49             7.80  0.86     1480\n",
            "4    13.24        2.69             4.32  1.04      735\n"
          ]
        },
        {
          "output_type": "display_data",
          "data": {
            "text/plain": [
              "<Figure size 3000x600 with 1 Axes>"
            ],
            "image/png": "[encoded data removed]"
          },
          "metadata": {}
        },
        {
          "output_type": "stream",
          "name": "stdout",
          "text": [
            "{'Alcohol': 0.009231371397818218, 'Malic acid': 0.0, 'Ash': 0.0, 'Alcalinity of ash': 0.0, 'Magnesium': 0.0, 'Total phenols': 0.0, 'Flavanoids': 0.6253761775523382, 'Non Flavanoids phenols': 0.0, 'Proanthocyanins': 0.0, 'Color intensity': 0.12792536284126277, 'Hue': 0.00921359825303914, 'OD280/OD315 of diluted wines': 0.0, 'Proline': 0.22825348995554154}\n"
          ]
        }
      ]
    },
    {
      "cell_type": "markdown",
      "source": [
        "**Penanganan Data Duplikat** : Memastikan bahwa data dalam dataframe tidak ada yang terduplikat"
      ],
      "metadata": {
        "id": "FllY6zQHJkr8"
      }
    },
    {
      "cell_type": "code",
      "source": [
        "# Menampilkan jumlah baris sebelum menghapus data duplikat\n",
        "print(f\"Jumlah baris sebelum menghapus data duplikat: {len(df_important)}\")\n",
        "\n",
        "# Mendeteksi dan menghapus data duplikat\n",
        "df_important.drop_duplicates(inplace=True)\n",
        "\n",
        "# Menampilkan jumlah baris setelah menghapus data duplikat\n",
        "print(f\"Jumlah baris setelah menghapus data duplikat: {len(df)}\")\n",
        "\n",
        "print(\"\\nDataFrame setelah proses Penanganan Data Duplikat:\\n\")\n",
        "\n",
        "print (df_important)"
      ],
      "metadata": {
        "colab": {
          "base_uri": "https://localhost:8080/"
        },
        "id": "R8o0XhFGKPVC",
        "outputId": "00bdb533-f738-431b-90be-f4009ab4d25b"
      },
      "execution_count": 18,
      "outputs": [
        {
          "output_type": "stream",
          "name": "stdout",
          "text": [
            "Jumlah baris sebelum menghapus data duplikat: 178\n",
            "Jumlah baris setelah menghapus data duplikat: 178\n",
            "\n",
            "DataFrame setelah proses Penanganan Data Duplikat:\n",
            "\n",
            "     Alcohol  Flavanoids  Color intensity   Hue  Proline\n",
            "0      14.23        3.06             5.64  1.04     1065\n",
            "1      13.20        2.76             4.38  1.05     1050\n",
            "2      13.16        3.24             5.68  1.03     1185\n",
            "3      14.37        3.49             7.80  0.86     1480\n",
            "4      13.24        2.69             4.32  1.04      735\n",
            "..       ...         ...              ...   ...      ...\n",
            "173    13.71        0.61             7.70  0.64      740\n",
            "174    13.40        0.75             7.30  0.70      750\n",
            "175    13.27        0.69            10.20  0.59      835\n",
            "176    13.17        0.68             9.30  0.60      840\n",
            "177    14.13        0.76             9.20  0.61      560\n",
            "\n",
            "[178 rows x 5 columns]\n"
          ]
        },
        {
          "output_type": "stream",
          "name": "stderr",
          "text": [
            "<ipython-input-18-f78fa22d7798>:5: SettingWithCopyWarning: \n",
            "A value is trying to be set on a copy of a slice from a DataFrame\n",
            "\n",
            "See the caveats in the documentation: https://pandas.pydata.org/pandas-docs/stable/user_guide/indexing.html#returning-a-view-versus-a-copy\n",
            "  df_important.drop_duplicates(inplace=True)\n"
          ]
        }
      ]
    },
    {
      "cell_type": "markdown",
      "source": [
        "**Penanganan Data Hilang (missing value)** : Mengatasi nilai-nilai yang kosong atau hilang dalam dataframe"
      ],
      "metadata": {
        "id": "WlB6bnriKzhY"
      }
    },
    {
      "cell_type": "code",
      "source": [
        "#Cek missing value\n",
        "missing_value_cek = df_important.isnull().sum()\n",
        "missing_value_cek"
      ],
      "metadata": {
        "colab": {
          "base_uri": "https://localhost:8080/"
        },
        "id": "NYpi7vbCLFJc",
        "outputId": "b18ed178-2452-4ba7-fb93-99ce309c1832"
      },
      "execution_count": 19,
      "outputs": [
        {
          "output_type": "execute_result",
          "data": {
            "text/plain": [
              "Alcohol            0\n",
              "Flavanoids         0\n",
              "Color intensity    0\n",
              "Hue                0\n",
              "Proline            0\n",
              "dtype: int64"
            ]
          },
          "metadata": {},
          "execution_count": 19
        }
      ]
    },
    {
      "cell_type": "markdown",
      "source": [
        "**Standarisasi** : Mengubah skala atau rentang atribut dalam dataset\n",
        "agar memiliki skala yang seragam"
      ],
      "metadata": {
        "id": "ZMoLpJhWHarE"
      }
    },
    {
      "cell_type": "code",
      "source": [
        "#Standarisasi feature\n",
        "from sklearn.preprocessing import StandardScaler\n",
        "\n",
        "scaler = StandardScaler()\n",
        "standardized = scaler.fit_transform(df_important)\n",
        "\n",
        "stardardized_data = pd.DataFrame(standardized, columns = important_features)\n",
        "stardardized_data.head()"
      ],
      "metadata": {
        "colab": {
          "base_uri": "https://localhost:8080/",
          "height": 0
        },
        "id": "l2IczbhZHgx3",
        "outputId": "9a314c70-c4d9-4af1-e503-d6a3864e0f25"
      },
      "execution_count": 20,
      "outputs": [
        {
          "output_type": "execute_result",
          "data": {
            "text/plain": [
              "    Alcohol  Flavanoids  Color intensity       Hue   Proline\n",
              "0  1.518613    1.034819         0.251717  0.362177  1.013009\n",
              "1  0.246290    0.733629        -0.293321  0.406051  0.965242\n",
              "2  0.196879    1.215533         0.269020  0.318304  1.395148\n",
              "3  1.691550    1.466525         1.186068 -0.427544  2.334574\n",
              "4  0.295700    0.663351        -0.319276  0.362177 -0.037874"
            ],
            "text/html": [
              "\n",
              "  <div id=\"df-0761a4ea-7c0b-4121-ab5f-351ae16af5a5\" class=\"colab-df-container\">\n",
              "    <div>\n",
              "<style scoped>\n",
              "    .dataframe tbody tr th:only-of-type {\n",
              "        vertical-align: middle;\n",
              "    }\n",
              "\n",
              "    .dataframe tbody tr th {\n",
              "        vertical-align: top;\n",
              "    }\n",
              "\n",
              "    .dataframe thead th {\n",
              "        text-align: right;\n",
              "    }\n",
              "</style>\n",
              "<table border=\"1\" class=\"dataframe\">\n",
              "  <thead>\n",
              "    <tr style=\"text-align: right;\">\n",
              "      <th></th>\n",
              "      <th>Alcohol</th>\n",
              "      <th>Flavanoids</th>\n",
              "      <th>Color intensity</th>\n",
              "      <th>Hue</th>\n",
              "      <th>Proline</th>\n",
              "    </tr>\n",
              "  </thead>\n",
              "  <tbody>\n",
              "    <tr>\n",
              "      <th>0</th>\n",
              "      <td>1.518613</td>\n",
              "      <td>1.034819</td>\n",
              "      <td>0.251717</td>\n",
              "      <td>0.362177</td>\n",
              "      <td>1.013009</td>\n",
              "    </tr>\n",
              "    <tr>\n",
              "      <th>1</th>\n",
              "      <td>0.246290</td>\n",
              "      <td>0.733629</td>\n",
              "      <td>-0.293321</td>\n",
              "      <td>0.406051</td>\n",
              "      <td>0.965242</td>\n",
              "    </tr>\n",
              "    <tr>\n",
              "      <th>2</th>\n",
              "      <td>0.196879</td>\n",
              "      <td>1.215533</td>\n",
              "      <td>0.269020</td>\n",
              "      <td>0.318304</td>\n",
              "      <td>1.395148</td>\n",
              "    </tr>\n",
              "    <tr>\n",
              "      <th>3</th>\n",
              "      <td>1.691550</td>\n",
              "      <td>1.466525</td>\n",
              "      <td>1.186068</td>\n",
              "      <td>-0.427544</td>\n",
              "      <td>2.334574</td>\n",
              "    </tr>\n",
              "    <tr>\n",
              "      <th>4</th>\n",
              "      <td>0.295700</td>\n",
              "      <td>0.663351</td>\n",
              "      <td>-0.319276</td>\n",
              "      <td>0.362177</td>\n",
              "      <td>-0.037874</td>\n",
              "    </tr>\n",
              "  </tbody>\n",
              "</table>\n",
              "</div>\n",
              "    <div class=\"colab-df-buttons\">\n",
              "\n",
              "  <div class=\"colab-df-container\">\n",
              "    <button class=\"colab-df-convert\" onclick=\"convertToInteractive('df-0761a4ea-7c0b-4121-ab5f-351ae16af5a5')\"\n",
              "            title=\"Convert this dataframe to an interactive table.\"\n",
              "            style=\"display:none;\">\n",
              "\n",
              "  <svg xmlns=\"http://www.w3.org/2000/svg\" height=\"24px\" viewBox=\"0 -960 960 960\">\n",
              "    <path d=\"M120-120v-720h720v720H120Zm60-500h600v-160H180v160Zm220 220h160v-160H400v160Zm0 220h160v-160H400v160ZM180-400h160v-160H180v160Zm440 0h160v-160H620v160ZM180-180h160v-160H180v160Zm440 0h160v-160H620v160Z\"/>\n",
              "  </svg>\n",
              "    </button>\n",
              "\n",
              "  <style>\n",
              "    .colab-df-container {\n",
              "      display:flex;\n",
              "      gap: 12px;\n",
              "    }\n",
              "\n",
              "    .colab-df-convert {\n",
              "      background-color: #E8F0FE;\n",
              "      border: none;\n",
              "      border-radius: 50%;\n",
              "      cursor: pointer;\n",
              "      display: none;\n",
              "      fill: #1967D2;\n",
              "      height: 32px;\n",
              "      padding: 0 0 0 0;\n",
              "      width: 32px;\n",
              "    }\n",
              "\n",
              "    .colab-df-convert:hover {\n",
              "      background-color: #E2EBFA;\n",
              "      box-shadow: 0px 1px 2px rgba(60, 64, 67, 0.3), 0px 1px 3px 1px rgba(60, 64, 67, 0.15);\n",
              "      fill: #174EA6;\n",
              "    }\n",
              "\n",
              "    .colab-df-buttons div {\n",
              "      margin-bottom: 4px;\n",
              "    }\n",
              "\n",
              "    [theme=dark] .colab-df-convert {\n",
              "      background-color: #3B4455;\n",
              "      fill: #D2E3FC;\n",
              "    }\n",
              "\n",
              "    [theme=dark] .colab-df-convert:hover {\n",
              "      background-color: #434B5C;\n",
              "      box-shadow: 0px 1px 3px 1px rgba(0, 0, 0, 0.15);\n",
              "      filter: drop-shadow(0px 1px 2px rgba(0, 0, 0, 0.3));\n",
              "      fill: #FFFFFF;\n",
              "    }\n",
              "  </style>\n",
              "\n",
              "    <script>\n",
              "      const buttonEl =\n",
              "        document.querySelector('#df-0761a4ea-7c0b-4121-ab5f-351ae16af5a5 button.colab-df-convert');\n",
              "      buttonEl.style.display =\n",
              "        google.colab.kernel.accessAllowed ? 'block' : 'none';\n",
              "\n",
              "      async function convertToInteractive(key) {\n",
              "        const element = document.querySelector('#df-0761a4ea-7c0b-4121-ab5f-351ae16af5a5');\n",
              "        const dataTable =\n",
              "          await google.colab.kernel.invokeFunction('convertToInteractive',\n",
              "                                                    [key], {});\n",
              "        if (!dataTable) return;\n",
              "\n",
              "        const docLinkHtml = 'Like what you see? Visit the ' +\n",
              "          '<a target=\"_blank\" href=https://colab.research.google.com/notebooks/data_table.ipynb>data table notebook</a>'\n",
              "          + ' to learn more about interactive tables.';\n",
              "        element.innerHTML = '';\n",
              "        dataTable['output_type'] = 'display_data';\n",
              "        await google.colab.output.renderOutput(dataTable, element);\n",
              "        const docLink = document.createElement('div');\n",
              "        docLink.innerHTML = docLinkHtml;\n",
              "        element.appendChild(docLink);\n",
              "      }\n",
              "    </script>\n",
              "  </div>\n",
              "\n",
              "\n",
              "<div id=\"df-8ab63c62-84f1-4b47-acbe-85cf37153369\">\n",
              "  <button class=\"colab-df-quickchart\" onclick=\"quickchart('df-8ab63c62-84f1-4b47-acbe-85cf37153369')\"\n",
              "            title=\"Suggest charts.\"\n",
              "            style=\"display:none;\">\n",
              "\n",
              "<svg xmlns=\"http://www.w3.org/2000/svg\" height=\"24px\"viewBox=\"0 0 24 24\"\n",
              "     width=\"24px\">\n",
              "    <g>\n",
              "        <path d=\"M19 3H5c-1.1 0-2 .9-2 2v14c0 1.1.9 2 2 2h14c1.1 0 2-.9 2-2V5c0-1.1-.9-2-2-2zM9 17H7v-7h2v7zm4 0h-2V7h2v10zm4 0h-2v-4h2v4z\"/>\n",
              "    </g>\n",
              "</svg>\n",
              "  </button>\n",
              "\n",
              "<style>\n",
              "  .colab-df-quickchart {\n",
              "      --bg-color: #E8F0FE;\n",
              "      --fill-color: #1967D2;\n",
              "      --hover-bg-color: #E2EBFA;\n",
              "      --hover-fill-color: #174EA6;\n",
              "      --disabled-fill-color: #AAA;\n",
              "      --disabled-bg-color: #DDD;\n",
              "  }\n",
              "\n",
              "  [theme=dark] .colab-df-quickchart {\n",
              "      --bg-color: #3B4455;\n",
              "      --fill-color: #D2E3FC;\n",
              "      --hover-bg-color: #434B5C;\n",
              "      --hover-fill-color: #FFFFFF;\n",
              "      --disabled-bg-color: #3B4455;\n",
              "      --disabled-fill-color: #666;\n",
              "  }\n",
              "\n",
              "  .colab-df-quickchart {\n",
              "    background-color: var(--bg-color);\n",
              "    border: none;\n",
              "    border-radius: 50%;\n",
              "    cursor: pointer;\n",
              "    display: none;\n",
              "    fill: var(--fill-color);\n",
              "    height: 32px;\n",
              "    padding: 0;\n",
              "    width: 32px;\n",
              "  }\n",
              "\n",
              "  .colab-df-quickchart:hover {\n",
              "    background-color: var(--hover-bg-color);\n",
              "    box-shadow: 0 1px 2px rgba(60, 64, 67, 0.3), 0 1px 3px 1px rgba(60, 64, 67, 0.15);\n",
              "    fill: var(--button-hover-fill-color);\n",
              "  }\n",
              "\n",
              "  .colab-df-quickchart-complete:disabled,\n",
              "  .colab-df-quickchart-complete:disabled:hover {\n",
              "    background-color: var(--disabled-bg-color);\n",
              "    fill: var(--disabled-fill-color);\n",
              "    box-shadow: none;\n",
              "  }\n",
              "\n",
              "  .colab-df-spinner {\n",
              "    border: 2px solid var(--fill-color);\n",
              "    border-color: transparent;\n",
              "    border-bottom-color: var(--fill-color);\n",
              "    animation:\n",
              "      spin 1s steps(1) infinite;\n",
              "  }\n",
              "\n",
              "  @keyframes spin {\n",
              "    0% {\n",
              "      border-color: transparent;\n",
              "      border-bottom-color: var(--fill-color);\n",
              "      border-left-color: var(--fill-color);\n",
              "    }\n",
              "    20% {\n",
              "      border-color: transparent;\n",
              "      border-left-color: var(--fill-color);\n",
              "      border-top-color: var(--fill-color);\n",
              "    }\n",
              "    30% {\n",
              "      border-color: transparent;\n",
              "      border-left-color: var(--fill-color);\n",
              "      border-top-color: var(--fill-color);\n",
              "      border-right-color: var(--fill-color);\n",
              "    }\n",
              "    40% {\n",
              "      border-color: transparent;\n",
              "      border-right-color: var(--fill-color);\n",
              "      border-top-color: var(--fill-color);\n",
              "    }\n",
              "    60% {\n",
              "      border-color: transparent;\n",
              "      border-right-color: var(--fill-color);\n",
              "    }\n",
              "    80% {\n",
              "      border-color: transparent;\n",
              "      border-right-color: var(--fill-color);\n",
              "      border-bottom-color: var(--fill-color);\n",
              "    }\n",
              "    90% {\n",
              "      border-color: transparent;\n",
              "      border-bottom-color: var(--fill-color);\n",
              "    }\n",
              "  }\n",
              "</style>\n",
              "\n",
              "  <script>\n",
              "    async function quickchart(key) {\n",
              "      const quickchartButtonEl =\n",
              "        document.querySelector('#' + key + ' button');\n",
              "      quickchartButtonEl.disabled = true;  // To prevent multiple clicks.\n",
              "      quickchartButtonEl.classList.add('colab-df-spinner');\n",
              "      try {\n",
              "        const charts = await google.colab.kernel.invokeFunction(\n",
              "            'suggestCharts', [key], {});\n",
              "      } catch (error) {\n",
              "        console.error('Error during call to suggestCharts:', error);\n",
              "      }\n",
              "      quickchartButtonEl.classList.remove('colab-df-spinner');\n",
              "      quickchartButtonEl.classList.add('colab-df-quickchart-complete');\n",
              "    }\n",
              "    (() => {\n",
              "      let quickchartButtonEl =\n",
              "        document.querySelector('#df-8ab63c62-84f1-4b47-acbe-85cf37153369 button');\n",
              "      quickchartButtonEl.style.display =\n",
              "        google.colab.kernel.accessAllowed ? 'block' : 'none';\n",
              "    })();\n",
              "  </script>\n",
              "</div>\n",
              "    </div>\n",
              "  </div>\n"
            ]
          },
          "metadata": {},
          "execution_count": 20
        }
      ]
    },
    {
      "cell_type": "code",
      "source": [
        "# plot both together to compare\n",
        "fig, ax = plt.subplots(1, 2, figsize=(15, 3))\n",
        "sns.histplot(X, ax=ax[0], kde=True, legend=False)\n",
        "ax[0].set_title(\"Original Data\")\n",
        "sns.histplot(stardardized_data, ax=ax[1], kde=True, legend=False)\n",
        "ax[1].set_title(\"Scaled data\")\n",
        "plt.show()"
      ],
      "metadata": {
        "colab": {
          "base_uri": "https://localhost:8080/",
          "height": 0
        },
        "id": "zQW_NbeLIZ3M",
        "outputId": "71aa8628-0e65-4801-f6c5-e084cd76ca0f"
      },
      "execution_count": 21,
      "outputs": [
        {
          "output_type": "display_data",
          "data": {
            "text/plain": [
              "<Figure size 1500x300 with 2 Axes>"
            ],
            "image/png": "[encoded data removed]"
          },
          "metadata": {}
        }
      ]
    },
    {
      "cell_type": "markdown",
      "source": [
        "**Reduksi dimensi data** : Mengurangi jumlah atribut dalam dataset sambil\n",
        "mempertahankan informasi yang paling penting (Agar tidak terlalu banyak atribut)"
      ],
      "metadata": {
        "id": "kbkEzPvZLuXc"
      }
    },
    {
      "cell_type": "code",
      "source": [
        "from sklearn.decomposition import PCA\n",
        "\n",
        "n_components = 4  # Ganti dengan jumlah komponen yang diinginkan\n",
        "pca = PCA(n_components=n_components)\n",
        "X_pca = pca.fit_transform(stardardized_data)\n",
        "\n",
        "X_pca = pd.DataFrame(X_pca, columns = ['PCA_1', 'PCA_2', 'PCA_3', 'PCA_4'])\n",
        "X_pca.head()"
      ],
      "metadata": {
        "colab": {
          "base_uri": "https://localhost:8080/",
          "height": 0
        },
        "id": "Ibxm-XwPozGu",
        "outputId": "6c8edbe7-f6bc-488c-f6df-ba0d60398ecc"
      },
      "execution_count": 22,
      "outputs": [
        {
          "output_type": "execute_result",
          "data": {
            "text/plain": [
              "      PCA_1     PCA_2     PCA_3     PCA_4\n",
              "0  2.048496 -0.301984 -0.017143  0.553781\n",
              "1  0.990484 -0.777030  0.045592 -0.183364\n",
              "2  1.592071 -0.667291  0.497071 -0.573196\n",
              "3  3.336706  0.480617  0.564306 -0.212763\n",
              "4  0.357630 -0.653721  0.184987  0.407530"
            ],
            "text/html": [
              "\n",
              "  <div id=\"df-2381f639-604e-4ea1-a2fa-3f1f1a69abbb\" class=\"colab-df-container\">\n",
              "    <div>\n",
              "<style scoped>\n",
              "    .dataframe tbody tr th:only-of-type {\n",
              "        vertical-align: middle;\n",
              "    }\n",
              "\n",
              "    .dataframe tbody tr th {\n",
              "        vertical-align: top;\n",
              "    }\n",
              "\n",
              "    .dataframe thead th {\n",
              "        text-align: right;\n",
              "    }\n",
              "</style>\n",
              "<table border=\"1\" class=\"dataframe\">\n",
              "  <thead>\n",
              "    <tr style=\"text-align: right;\">\n",
              "      <th></th>\n",
              "      <th>PCA_1</th>\n",
              "      <th>PCA_2</th>\n",
              "      <th>PCA_3</th>\n",
              "      <th>PCA_4</th>\n",
              "    </tr>\n",
              "  </thead>\n",
              "  <tbody>\n",
              "    <tr>\n",
              "      <th>0</th>\n",
              "      <td>2.048496</td>\n",
              "      <td>-0.301984</td>\n",
              "      <td>-0.017143</td>\n",
              "      <td>0.553781</td>\n",
              "    </tr>\n",
              "    <tr>\n",
              "      <th>1</th>\n",
              "      <td>0.990484</td>\n",
              "      <td>-0.777030</td>\n",
              "      <td>0.045592</td>\n",
              "      <td>-0.183364</td>\n",
              "    </tr>\n",
              "    <tr>\n",
              "      <th>2</th>\n",
              "      <td>1.592071</td>\n",
              "      <td>-0.667291</td>\n",
              "      <td>0.497071</td>\n",
              "      <td>-0.573196</td>\n",
              "    </tr>\n",
              "    <tr>\n",
              "      <th>3</th>\n",
              "      <td>3.336706</td>\n",
              "      <td>0.480617</td>\n",
              "      <td>0.564306</td>\n",
              "      <td>-0.212763</td>\n",
              "    </tr>\n",
              "    <tr>\n",
              "      <th>4</th>\n",
              "      <td>0.357630</td>\n",
              "      <td>-0.653721</td>\n",
              "      <td>0.184987</td>\n",
              "      <td>0.407530</td>\n",
              "    </tr>\n",
              "  </tbody>\n",
              "</table>\n",
              "</div>\n",
              "    <div class=\"colab-df-buttons\">\n",
              "\n",
              "  <div class=\"colab-df-container\">\n",
              "    <button class=\"colab-df-convert\" onclick=\"convertToInteractive('df-2381f639-604e-4ea1-a2fa-3f1f1a69abbb')\"\n",
              "            title=\"Convert this dataframe to an interactive table.\"\n",
              "            style=\"display:none;\">\n",
              "\n",
              "  <svg xmlns=\"http://www.w3.org/2000/svg\" height=\"24px\" viewBox=\"0 -960 960 960\">\n",
              "    <path d=\"M120-120v-720h720v720H120Zm60-500h600v-160H180v160Zm220 220h160v-160H400v160Zm0 220h160v-160H400v160ZM180-400h160v-160H180v160Zm440 0h160v-160H620v160ZM180-180h160v-160H180v160Zm440 0h160v-160H620v160Z\"/>\n",
              "  </svg>\n",
              "    </button>\n",
              "\n",
              "  <style>\n",
              "    .colab-df-container {\n",
              "      display:flex;\n",
              "      gap: 12px;\n",
              "    }\n",
              "\n",
              "    .colab-df-convert {\n",
              "      background-color: #E8F0FE;\n",
              "      border: none;\n",
              "      border-radius: 50%;\n",
              "      cursor: pointer;\n",
              "      display: none;\n",
              "      fill: #1967D2;\n",
              "      height: 32px;\n",
              "      padding: 0 0 0 0;\n",
              "      width: 32px;\n",
              "    }\n",
              "\n",
              "    .colab-df-convert:hover {\n",
              "      background-color: #E2EBFA;\n",
              "      box-shadow: 0px 1px 2px rgba(60, 64, 67, 0.3), 0px 1px 3px 1px rgba(60, 64, 67, 0.15);\n",
              "      fill: #174EA6;\n",
              "    }\n",
              "\n",
              "    .colab-df-buttons div {\n",
              "      margin-bottom: 4px;\n",
              "    }\n",
              "\n",
              "    [theme=dark] .colab-df-convert {\n",
              "      background-color: #3B4455;\n",
              "      fill: #D2E3FC;\n",
              "    }\n",
              "\n",
              "    [theme=dark] .colab-df-convert:hover {\n",
              "      background-color: #434B5C;\n",
              "      box-shadow: 0px 1px 3px 1px rgba(0, 0, 0, 0.15);\n",
              "      filter: drop-shadow(0px 1px 2px rgba(0, 0, 0, 0.3));\n",
              "      fill: #FFFFFF;\n",
              "    }\n",
              "  </style>\n",
              "\n",
              "    <script>\n",
              "      const buttonEl =\n",
              "        document.querySelector('#df-2381f639-604e-4ea1-a2fa-3f1f1a69abbb button.colab-df-convert');\n",
              "      buttonEl.style.display =\n",
              "        google.colab.kernel.accessAllowed ? 'block' : 'none';\n",
              "\n",
              "      async function convertToInteractive(key) {\n",
              "        const element = document.querySelector('#df-2381f639-604e-4ea1-a2fa-3f1f1a69abbb');\n",
              "        const dataTable =\n",
              "          await google.colab.kernel.invokeFunction('convertToInteractive',\n",
              "                                                    [key], {});\n",
              "        if (!dataTable) return;\n",
              "\n",
              "        const docLinkHtml = 'Like what you see? Visit the ' +\n",
              "          '<a target=\"_blank\" href=https://colab.research.google.com/notebooks/data_table.ipynb>data table notebook</a>'\n",
              "          + ' to learn more about interactive tables.';\n",
              "        element.innerHTML = '';\n",
              "        dataTable['output_type'] = 'display_data';\n",
              "        await google.colab.output.renderOutput(dataTable, element);\n",
              "        const docLink = document.createElement('div');\n",
              "        docLink.innerHTML = docLinkHtml;\n",
              "        element.appendChild(docLink);\n",
              "      }\n",
              "    </script>\n",
              "  </div>\n",
              "\n",
              "\n",
              "<div id=\"df-6ff56b7b-1747-4d88-a118-74b20e2c588e\">\n",
              "  <button class=\"colab-df-quickchart\" onclick=\"quickchart('df-6ff56b7b-1747-4d88-a118-74b20e2c588e')\"\n",
              "            title=\"Suggest charts.\"\n",
              "            style=\"display:none;\">\n",
              "\n",
              "<svg xmlns=\"http://www.w3.org/2000/svg\" height=\"24px\"viewBox=\"0 0 24 24\"\n",
              "     width=\"24px\">\n",
              "    <g>\n",
              "        <path d=\"M19 3H5c-1.1 0-2 .9-2 2v14c0 1.1.9 2 2 2h14c1.1 0 2-.9 2-2V5c0-1.1-.9-2-2-2zM9 17H7v-7h2v7zm4 0h-2V7h2v10zm4 0h-2v-4h2v4z\"/>\n",
              "    </g>\n",
              "</svg>\n",
              "  </button>\n",
              "\n",
              "<style>\n",
              "  .colab-df-quickchart {\n",
              "      --bg-color: #E8F0FE;\n",
              "      --fill-color: #1967D2;\n",
              "      --hover-bg-color: #E2EBFA;\n",
              "      --hover-fill-color: #174EA6;\n",
              "      --disabled-fill-color: #AAA;\n",
              "      --disabled-bg-color: #DDD;\n",
              "  }\n",
              "\n",
              "  [theme=dark] .colab-df-quickchart {\n",
              "      --bg-color: #3B4455;\n",
              "      --fill-color: #D2E3FC;\n",
              "      --hover-bg-color: #434B5C;\n",
              "      --hover-fill-color: #FFFFFF;\n",
              "      --disabled-bg-color: #3B4455;\n",
              "      --disabled-fill-color: #666;\n",
              "  }\n",
              "\n",
              "  .colab-df-quickchart {\n",
              "    background-color: var(--bg-color);\n",
              "    border: none;\n",
              "    border-radius: 50%;\n",
              "    cursor: pointer;\n",
              "    display: none;\n",
              "    fill: var(--fill-color);\n",
              "    height: 32px;\n",
              "    padding: 0;\n",
              "    width: 32px;\n",
              "  }\n",
              "\n",
              "  .colab-df-quickchart:hover {\n",
              "    background-color: var(--hover-bg-color);\n",
              "    box-shadow: 0 1px 2px rgba(60, 64, 67, 0.3), 0 1px 3px 1px rgba(60, 64, 67, 0.15);\n",
              "    fill: var(--button-hover-fill-color);\n",
              "  }\n",
              "\n",
              "  .colab-df-quickchart-complete:disabled,\n",
              "  .colab-df-quickchart-complete:disabled:hover {\n",
              "    background-color: var(--disabled-bg-color);\n",
              "    fill: var(--disabled-fill-color);\n",
              "    box-shadow: none;\n",
              "  }\n",
              "\n",
              "  .colab-df-spinner {\n",
              "    border: 2px solid var(--fill-color);\n",
              "    border-color: transparent;\n",
              "    border-bottom-color: var(--fill-color);\n",
              "    animation:\n",
              "      spin 1s steps(1) infinite;\n",
              "  }\n",
              "\n",
              "  @keyframes spin {\n",
              "    0% {\n",
              "      border-color: transparent;\n",
              "      border-bottom-color: var(--fill-color);\n",
              "      border-left-color: var(--fill-color);\n",
              "    }\n",
              "    20% {\n",
              "      border-color: transparent;\n",
              "      border-left-color: var(--fill-color);\n",
              "      border-top-color: var(--fill-color);\n",
              "    }\n",
              "    30% {\n",
              "      border-color: transparent;\n",
              "      border-left-color: var(--fill-color);\n",
              "      border-top-color: var(--fill-color);\n",
              "      border-right-color: var(--fill-color);\n",
              "    }\n",
              "    40% {\n",
              "      border-color: transparent;\n",
              "      border-right-color: var(--fill-color);\n",
              "      border-top-color: var(--fill-color);\n",
              "    }\n",
              "    60% {\n",
              "      border-color: transparent;\n",
              "      border-right-color: var(--fill-color);\n",
              "    }\n",
              "    80% {\n",
              "      border-color: transparent;\n",
              "      border-right-color: var(--fill-color);\n",
              "      border-bottom-color: var(--fill-color);\n",
              "    }\n",
              "    90% {\n",
              "      border-color: transparent;\n",
              "      border-bottom-color: var(--fill-color);\n",
              "    }\n",
              "  }\n",
              "</style>\n",
              "\n",
              "  <script>\n",
              "    async function quickchart(key) {\n",
              "      const quickchartButtonEl =\n",
              "        document.querySelector('#' + key + ' button');\n",
              "      quickchartButtonEl.disabled = true;  // To prevent multiple clicks.\n",
              "      quickchartButtonEl.classList.add('colab-df-spinner');\n",
              "      try {\n",
              "        const charts = await google.colab.kernel.invokeFunction(\n",
              "            'suggestCharts', [key], {});\n",
              "      } catch (error) {\n",
              "        console.error('Error during call to suggestCharts:', error);\n",
              "      }\n",
              "      quickchartButtonEl.classList.remove('colab-df-spinner');\n",
              "      quickchartButtonEl.classList.add('colab-df-quickchart-complete');\n",
              "    }\n",
              "    (() => {\n",
              "      let quickchartButtonEl =\n",
              "        document.querySelector('#df-6ff56b7b-1747-4d88-a118-74b20e2c588e button');\n",
              "      quickchartButtonEl.style.display =\n",
              "        google.colab.kernel.accessAllowed ? 'block' : 'none';\n",
              "    })();\n",
              "  </script>\n",
              "</div>\n",
              "    </div>\n",
              "  </div>\n"
            ]
          },
          "metadata": {},
          "execution_count": 22
        }
      ]
    },
    {
      "cell_type": "markdown",
      "source": [
        "**Resampling data kelas yang tidak seimbang** : mengatasi ketidakseimbangan kelas dengan menambahkan atau mengurangi sampel pada kelas minoritas atau mayoritas"
      ],
      "metadata": {
        "id": "-PsqUSTjL3KV"
      }
    },
    {
      "cell_type": "code",
      "source": [
        "# Membuat array dengan jumlah unik target dan jumlah data untuk masing-masing target\n",
        "unique_targets, target_counts = np.unique(Y, return_counts=True)\n",
        "\n",
        "# Membuat plot batang untuk menampilkan banyaknya data untuk tiap target\n",
        "plt.figure(figsize=(8, 6))\n",
        "plt.bar(unique_targets, target_counts)\n",
        "plt.xlabel('Number of Instances')\n",
        "plt.ylabel('Jumlah Data')\n",
        "plt.title('Banyaknya Data Tiap Target dalam Kolom Number of Instances')\n",
        "plt.show()\n",
        "\n",
        "unique_targets, target_counts = np.unique(Y, return_counts=True)\n",
        "print(dict(zip(unique_targets, target_counts)))"
      ],
      "metadata": {
        "colab": {
          "base_uri": "https://localhost:8080/",
          "height": 0
        },
        "id": "OvEoFejHnpBx",
        "outputId": "9967deb0-23c3-4921-f6b1-f9be86720a88"
      },
      "execution_count": 23,
      "outputs": [
        {
          "output_type": "display_data",
          "data": {
            "text/plain": [
              "<Figure size 800x600 with 1 Axes>"
            ],
            "image/png": "[encoded data removed]"
          },
          "metadata": {}
        },
        {
          "output_type": "stream",
          "name": "stdout",
          "text": [
            "{1: 59, 2: 71, 3: 48}\n"
          ]
        }
      ]
    },
    {
      "cell_type": "code",
      "source": [
        "from imblearn.over_sampling import RandomOverSampler\n",
        "\n",
        "resamp = RandomOverSampler()\n",
        "balX, balY = resamp.fit_resample(X_pca, Y)\n",
        "\n",
        "sns.countplot(x=balY)\n",
        "plt.show()\n",
        "\n",
        "unique_targets, target_counts = np.unique(balY, return_counts=True)\n",
        "print(dict(zip(unique_targets, target_counts)))"
      ],
      "metadata": {
        "colab": {
          "base_uri": "https://localhost:8080/",
          "height": 0
        },
        "id": "VJaPW51hSOos",
        "outputId": "d0cd0f35-8f0f-47be-afeb-4bbd7e1cb83b"
      },
      "execution_count": 24,
      "outputs": [
        {
          "output_type": "display_data",
          "data": {
            "text/plain": [
              "<Figure size 640x480 with 1 Axes>"
            ],
            "image/png": "[encoded data removed]"
          },
          "metadata": {}
        },
        {
          "output_type": "stream",
          "name": "stdout",
          "text": [
            "{1: 71, 2: 71, 3: 71}\n"
          ]
        }
      ]
    },
    {
      "cell_type": "markdown",
      "source": [
        "# Algoritma KNN dan Naive Bayes setelah pre-procesing"
      ],
      "metadata": {
        "id": "Nmmzy5BQTP2u"
      }
    },
    {
      "cell_type": "markdown",
      "source": [
        "**K-Nearest Neighbor (KNN)**"
      ],
      "metadata": {
        "id": "iKoA0aI9Urq0"
      }
    },
    {
      "cell_type": "code",
      "source": [
        "modelknn=KNeighborsClassifier(n_neighbors=43, weights='distance')\n",
        "\n",
        "cv_score1=cross_validate(modelknn,balX,balY,cv=5, return_train_score=True)\n",
        "cv_score2=cross_val_score(modelknn,balX,balY,cv=10)\n",
        "\n",
        "print(\"Train Score 1:\", cv_score1['train_score'].mean())\n",
        "print(\"Test Score 1:\", cv_score1['test_score'].mean())\n",
        "print(\"Train Score 2:\", cv_score1['train_score'].mean())\n",
        "print(\"Test Score 2:\", cv_score2.mean())"
      ],
      "metadata": {
        "colab": {
          "base_uri": "https://localhost:8080/"
        },
        "id": "lxGwqYwSUyWS",
        "outputId": "91ca9050-0318-4d34-b2b7-144485efe5a8"
      },
      "execution_count": 25,
      "outputs": [
        {
          "output_type": "stream",
          "name": "stdout",
          "text": [
            "Train Score 1: 1.0\n",
            "Test Score 1: 0.9767441860465116\n",
            "Train Score 2: 1.0\n",
            "Test Score 2: 0.9770562770562771\n"
          ]
        }
      ]
    },
    {
      "cell_type": "code",
      "source": [
        "def knn_predict(k) :\n",
        "    modelknn = KNeighborsClassifier(n_neighbors=k)\n",
        "    score = cross_validate(modelknn,balX,balY,cv=10, return_train_score=True)\n",
        "    train_score = score['train_score'].mean()\n",
        "    test_score = score['test_score'].mean()\n",
        "    return train_score, test_score"
      ],
      "metadata": {
        "id": "pt1dpDU-2O9q"
      },
      "execution_count": 26,
      "outputs": []
    },
    {
      "cell_type": "code",
      "source": [
        "#Tuning Hyperparameter KNN manual\n",
        "train_scores=[]\n",
        "test_scores=[]\n",
        "for k in range (2,100):\n",
        "    train_score, test_score=knn_predict(k)\n",
        "    train_scores.append(train_score)\n",
        "    test_scores.append(test_score)"
      ],
      "metadata": {
        "id": "5TetcGkQ2PSL"
      },
      "execution_count": 27,
      "outputs": []
    },
    {
      "cell_type": "code",
      "source": [
        "fig,ax = plt.subplots(figsize=(14,8))\n",
        "ax.plot(range(2,100),train_scores, marker='x', color='b', label='Train Scores')\n",
        "ax.plot(range(2,100),test_scores, marker='o', color='g', label='Test Scores')\n",
        "ax.set_xlabel('Nilai K')\n",
        "ax.set_ylabel('Scores')\n",
        "fig.legend()\n",
        "plt.show\n",
        "\n",
        "# Menggunakan NumPy untuk mencari indeks titik tertinggi\n",
        "indeks_titik_tertinggi = np.argmax(test_scores)\n",
        "nilai_titik_tertinggi = test_scores[indeks_titik_tertinggi]\n",
        "\n",
        "print(\"Titik Tertinggi Terletak pada Indeks:\", indeks_titik_tertinggi)\n",
        "print(\"Nilai Titik Tertinggi:\", nilai_titik_tertinggi)"
      ],
      "metadata": {
        "colab": {
          "base_uri": "https://localhost:8080/",
          "height": 808
        },
        "id": "WuDguLbe2PmS",
        "outputId": "680359bb-b8c1-4652-da3a-c6f0a3358cfb"
      },
      "execution_count": 28,
      "outputs": [
        {
          "output_type": "stream",
          "name": "stdout",
          "text": [
            "Titik Tertinggi Terletak pada Indeks: 57\n",
            "Nilai Titik Tertinggi: 0.9818181818181818\n"
          ]
        },
        {
          "output_type": "display_data",
          "data": {
            "text/plain": [
              "<Figure size 1400x800 with 1 Axes>"
            ],
            "image/png": "[encoded data removed]"
          },
          "metadata": {}
        }
      ]
    },
    {
      "cell_type": "code",
      "source": [
        "modelknn = KNeighborsClassifier()\n",
        "param_grid={'n_neighbors':np.arange(5,50),'weights':['distance','uniform']}\n",
        "gscv=GridSearchCV(modelknn, param_grid=param_grid, scoring='accuracy', cv=5)\n",
        "gscv.fit(balX,balY)\n",
        "print(gscv.best_params_,gscv.best_score_)"
      ],
      "metadata": {
        "colab": {
          "base_uri": "https://localhost:8080/"
        },
        "id": "1ZpHTg2L2PyS",
        "outputId": "49bf14c2-5a79-4866-fb78-685f46276192"
      },
      "execution_count": 29,
      "outputs": [
        {
          "output_type": "stream",
          "name": "stdout",
          "text": [
            "{'n_neighbors': 5, 'weights': 'distance'} 0.9767441860465116\n"
          ]
        }
      ]
    },
    {
      "cell_type": "code",
      "source": [
        "from sklearn.model_selection import GridSearchCV\n",
        "from sklearn.neighbors import KNeighborsClassifier\n",
        "from sklearn.metrics import classification_report\n",
        "\n",
        "# Model K-Nearest Neighbors\n",
        "modelknn = KNeighborsClassifier()\n",
        "\n",
        "# Hyperparameter yang akan diuji\n",
        "param_grid = {'n_neighbors': np.arange(5, 50), 'weights': ['distance', 'uniform']}\n",
        "\n",
        "# GridSearchCV\n",
        "gscv = GridSearchCV(modelknn, param_grid=param_grid, scoring='accuracy', cv=5)\n",
        "gscv.fit(balX, balY)\n",
        "\n",
        "# Tampilkan parameter terbaik dan skor akurasi terbaik\n",
        "print(\"Best Parameters:\", gscv.best_params_)\n",
        "print(\"Best Accuracy:\", gscv.best_score_)\n",
        "\n",
        "# Prediksi terhadap data latih dengan model terbaik\n",
        "y_pred = gscv.predict(balX)\n",
        "\n",
        "# Tampilkan laporan klasifikasi yang mencakup akurasi dan F1-Score\n",
        "report = classification_report(balY, y_pred)\n",
        "print(\"Classification Report:\\n\", report)\n"
      ],
      "metadata": {
        "colab": {
          "base_uri": "https://localhost:8080/"
        },
        "id": "HF6k8_OU4lJd",
        "outputId": "1e1b4c43-00df-4ed0-ced1-2f8fd880bcee"
      },
      "execution_count": 30,
      "outputs": [
        {
          "output_type": "stream",
          "name": "stdout",
          "text": [
            "Best Parameters: {'n_neighbors': 5, 'weights': 'distance'}\n",
            "Best Accuracy: 0.9767441860465116\n",
            "Classification Report:\n",
            "               precision    recall  f1-score   support\n",
            "\n",
            "           1       1.00      1.00      1.00        71\n",
            "           2       1.00      1.00      1.00        71\n",
            "           3       1.00      1.00      1.00        71\n",
            "\n",
            "    accuracy                           1.00       213\n",
            "   macro avg       1.00      1.00      1.00       213\n",
            "weighted avg       1.00      1.00      1.00       213\n",
            "\n"
          ]
        }
      ]
    },
    {
      "cell_type": "code",
      "source": [
        "#Tuning Hyperparameter KNN otomatis dengan RandomGridSearchCV , default iter =10\n",
        "from sklearn.model_selection import RandomizedSearchCV\n",
        "modelknn = KNeighborsClassifier()\n",
        "param_grid={'n_neighbors':np.arange(5,50),'weights':['distance','uniform']}\n",
        "rscv=RandomizedSearchCV(modelknn, param_grid,n_iter=15, scoring='accuracy', cv=5)\n",
        "rscv.fit(balX,balY)\n",
        "print(rscv.best_params_, rscv.best_score_)"
      ],
      "metadata": {
        "colab": {
          "base_uri": "https://localhost:8080/"
        },
        "id": "X4XZa7iX2P8r",
        "outputId": "45b97f22-ef12-4174-8118-f186fa5b14a0"
      },
      "execution_count": 31,
      "outputs": [
        {
          "output_type": "stream",
          "name": "stdout",
          "text": [
            "{'weights': 'distance', 'n_neighbors': 11} 0.9767441860465116\n"
          ]
        }
      ]
    },
    {
      "cell_type": "markdown",
      "source": [
        "**Naive Bayes**"
      ],
      "metadata": {
        "id": "i_FvAEruXh18"
      }
    },
    {
      "cell_type": "code",
      "source": [
        "from sklearn.naive_bayes import GaussianNB\n",
        "modelnb=GaussianNB()\n",
        "\n",
        "cv_score1=cross_validate(modelnb,balX,balY,cv=5, return_train_score=True)\n",
        "cv_score2=cross_val_score(modelnb,balX,balY,cv=10)\n",
        "\n",
        "print(\"Train Score 1:\", cv_score1['train_score'].mean())\n",
        "print(\"Test Score 1:\", cv_score1['test_score'].mean())\n",
        "print(\"Train Score 2:\", cv_score1['train_score'].mean())\n",
        "print(\"Test Score 2:\", cv_score2.mean())"
      ],
      "metadata": {
        "id": "ohPLuBC7XtaU",
        "colab": {
          "base_uri": "https://localhost:8080/"
        },
        "outputId": "89c53003-6f1a-4b70-fd03-2ce415a1c19b"
      },
      "execution_count": 32,
      "outputs": [
        {
          "output_type": "stream",
          "name": "stdout",
          "text": [
            "Train Score 1: 0.9882765737874097\n",
            "Test Score 1: 0.9719822812846068\n",
            "Train Score 2: 0.9882765737874097\n",
            "Test Score 2: 0.9861471861471862\n"
          ]
        }
      ]
    },
    {
      "cell_type": "code",
      "source": [
        "#Tuning Hyperparameter\n",
        "from sklearn.model_selection import RepeatedStratifiedKFold\n",
        "cv_method = RepeatedStratifiedKFold(n_splits=10,  n_repeats=3, random_state=999)\n",
        "param_grid_nb = {'var_smoothing': np.logspace(0,-9, num=100)}\n",
        "\n",
        "from sklearn.model_selection import GridSearchCV\n",
        "gs_NB = GridSearchCV(estimator=modelnb, param_grid=param_grid_nb, cv=cv_method,verbose=1,scoring='accuracy')\n",
        "gs_NB.fit(balX,balY)\n",
        "print(gs_NB.best_params_,gs_NB.best_score_)"
      ],
      "metadata": {
        "colab": {
          "base_uri": "https://localhost:8080/"
        },
        "id": "dxxBoUjGY9fQ",
        "outputId": "232f4654-04b4-4da3-9425-479024b14e70"
      },
      "execution_count": 33,
      "outputs": [
        {
          "output_type": "stream",
          "name": "stdout",
          "text": [
            "Fitting 30 folds for each of 100 candidates, totalling 3000 fits\n",
            "{'var_smoothing': 0.3511191734215131} 0.989033189033189\n"
          ]
        }
      ]
    },
    {
      "cell_type": "code",
      "source": [
        "from sklearn.naive_bayes import GaussianNB\n",
        "from sklearn.model_selection import cross_validate, cross_val_score, RepeatedStratifiedKFold, GridSearchCV\n",
        "from sklearn.metrics import classification_report\n",
        "import numpy as np\n",
        "\n",
        "# ...\n",
        "\n",
        "# Model Gaussian Naive Bayes\n",
        "modelnb = GaussianNB()\n",
        "\n",
        "# Evaluasi model dengan cross-validation\n",
        "cv_score1 = cross_validate(modelnb, balX, balY, cv=5, return_train_score=True)\n",
        "cv_score2 = cross_val_score(modelnb, balX, balY, cv=10)\n",
        "\n",
        "print(\"Train Score 1:\", cv_score1['train_score'].mean())\n",
        "print(\"Test Score 1:\", cv_score1['test_score'].mean())\n",
        "print(\"Train Score 2:\", cv_score1['train_score'].mean())\n",
        "print(\"Test Score 2:\", cv_score2.mean())\n",
        "\n",
        "# Tuning Hyperparameter\n",
        "cv_method = RepeatedStratifiedKFold(n_splits=10, n_repeats=3, random_state=999)\n",
        "param_grid_nb = {'var_smoothing': np.logspace(0, -9, num=100)}\n",
        "\n",
        "# GridSearchCV dengan scoring='accuracy' dan 'F1'\n",
        "gs_NB = GridSearchCV(estimator=modelnb, param_grid=param_grid_nb, cv=cv_method, verbose=1,\n",
        "                     scoring={'Accuracy': 'accuracy', 'F1-Score': 'f1_macro'}, refit='F1-Score')\n",
        "gs_NB.fit(balX, balY)\n",
        "\n",
        "# Tampilkan laporan klasifikasi\n",
        "y_pred = gs_NB.predict(balX)  # Prediksi terhadap data latih\n",
        "report = classification_report(balY, y_pred)\n",
        "print(\"Classification Report:\\n\", report)\n"
      ],
      "metadata": {
        "colab": {
          "base_uri": "https://localhost:8080/"
        },
        "id": "eogsqVU7qDUS",
        "outputId": "cb3dbdb0-3874-42f1-9bbe-db62efb1c504"
      },
      "execution_count": 34,
      "outputs": [
        {
          "output_type": "stream",
          "name": "stdout",
          "text": [
            "Train Score 1: 0.9882765737874097\n",
            "Test Score 1: 0.9719822812846068\n",
            "Train Score 2: 0.9882765737874097\n",
            "Test Score 2: 0.9861471861471862\n",
            "Fitting 30 folds for each of 100 candidates, totalling 3000 fits\n",
            "Classification Report:\n",
            "               precision    recall  f1-score   support\n",
            "\n",
            "           1       0.99      1.00      0.99        71\n",
            "           2       1.00      0.97      0.99        71\n",
            "           3       0.99      1.00      0.99        71\n",
            "\n",
            "    accuracy                           0.99       213\n",
            "   macro avg       0.99      0.99      0.99       213\n",
            "weighted avg       0.99      0.99      0.99       213\n",
            "\n"
          ]
        }
      ]
    }
  ]
}